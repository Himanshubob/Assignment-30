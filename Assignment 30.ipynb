{
 "cells": [
  {
   "cell_type": "markdown",
   "id": "362cbcfd",
   "metadata": {},
   "source": [
    "# 1. explain the following with example  1.AI 2.ML 3.DL"
   ]
  },
  {
   "cell_type": "markdown",
   "id": "adf62b22",
   "metadata": {},
   "source": [
    "# ans. AI= smart application that can perform its own task without any human intervation \n",
    "# ML= it provide statstool to analiyze visualize prediatve modle\n",
    "# DL= mimic the human brain "
   ]
  },
  {
   "cell_type": "markdown",
   "id": "992f13ed",
   "metadata": {},
   "source": [
    "# Q2.. what is supervised learning ? list some examples of supervised learning "
   ]
  },
  {
   "cell_type": "markdown",
   "id": "969cdf7c",
   "metadata": {},
   "source": [
    "# ans. supervised learinig are two type  1. classification 2. regreisson \n",
    "# supervised is  comes of end the output\n",
    "# student study in a day  that student pass or fail "
   ]
  },
  {
   "cell_type": "markdown",
   "id": "d4db60b9",
   "metadata": {},
   "source": [
    "# Q3. what is unsupervised learinig ? list some example of unspervised learining "
   ]
  },
  {
   "cell_type": "markdown",
   "id": "f2c20c4c",
   "metadata": {},
   "source": [
    "# Unsupervised learning  is input bu have notut  unsupervised lt is the culster \n",
    "# ex shopkeper  is peridicate the castmer  shoping "
   ]
  },
  {
   "cell_type": "markdown",
   "id": "d7aafbb5",
   "metadata": {},
   "source": [
    "# Q4 what is the difference b/w AI, ML,DLand DS"
   ]
  },
  {
   "cell_type": "markdown",
   "id": "d285de28",
   "metadata": {},
   "source": [
    "# ans.  AI is the univers of the tecnologe \n",
    " # after that is ML  and after that Dl  and the all subject combaen that called DS\n",
    " # \n",
    " #     DS={AI>ML>DL}"
   ]
  },
  {
   "cell_type": "markdown",
   "id": "5e620db5",
   "metadata": {},
   "source": [
    "# Q5 what are the main difference b/w supervised unsupervised  and semi supervised  learning ?"
   ]
  },
  {
   "cell_type": "markdown",
   "id": "0366ae53",
   "metadata": {},
   "source": [
    "# ans .. supervised =  come out the end of the output \n",
    "# unsupervised = not  come the output  , it make the cluster \n",
    "# semi-supervised= both combine supervised and unsupervised make the semi -supervised "
   ]
  },
  {
   "cell_type": "markdown",
   "id": "6208a3a8",
   "metadata": {},
   "source": [
    "# Q 6. what is train ,test and validation split ? explain importance of each term?"
   ]
  },
  {
   "cell_type": "markdown",
   "id": "00f8e55b",
   "metadata": {},
   "source": [
    "# ans.. train = we wiil train our modle \n",
    "# validation =hyper tuning of the modle \n",
    "# test = modle will be tset "
   ]
  },
  {
   "cell_type": "markdown",
   "id": "344e9bc1",
   "metadata": {},
   "source": [
    "# Q7 .. how can unsupervised learning be used in anomaly detection?"
   ]
  },
  {
   "cell_type": "markdown",
   "id": "8f450fac",
   "metadata": {},
   "source": [
    "# unsupervised learining  is workeing the data gruop the unsupervised learning is data sapreted the many gruop accode trhe data condicen"
   ]
  },
  {
   "cell_type": "markdown",
   "id": "154f5b4c",
   "metadata": {},
   "source": [
    "# Q8.. list down some commonly used supervised learning  alogorithms and unsupervised learning alogorithms"
   ]
  },
  {
   "cell_type": "markdown",
   "id": "2aee0dbf",
   "metadata": {},
   "source": [
    "# supervised = (svm),decision trees, k nearset neighbor\n",
    "# unspervised = k- means clustering, KNN,hierarchal,"
   ]
  },
  {
   "cell_type": "code",
   "execution_count": null,
   "id": "9e1f5e51",
   "metadata": {},
   "outputs": [],
   "source": []
  }
 ],
 "metadata": {
  "kernelspec": {
   "display_name": "Python 3 (ipykernel)",
   "language": "python",
   "name": "python3"
  },
  "language_info": {
   "codemirror_mode": {
    "name": "ipython",
    "version": 3
   },
   "file_extension": ".py",
   "mimetype": "text/x-python",
   "name": "python",
   "nbconvert_exporter": "python",
   "pygments_lexer": "ipython3",
   "version": "3.10.9"
  }
 },
 "nbformat": 4,
 "nbformat_minor": 5
}
